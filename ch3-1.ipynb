{
 "cells": [
  {
   "cell_type": "code",
   "execution_count": 4,
   "id": "9d8b8383",
   "metadata": {},
   "outputs": [
    {
     "name": "stdout",
     "output_type": "stream",
     "text": [
      " C 드라이브의 볼륨에는 이름이 없습니다.\n",
      " 볼륨 일련 번호: 503B-E09F\n",
      "\n",
      " C:\\Users\\User\\Desktop\\deepLearning\\exe 디렉터리\n",
      "\n",
      "2022-05-06  오후 02:06    <DIR>          .\n",
      "2022-05-06  오후 02:06    <DIR>          ..\n",
      "2022-05-06  오후 02:06    <DIR>          .ipynb_checkpoints\n",
      "2022-05-06  오후 12:07                72 ch3-1.ipynb\n",
      "               1개 파일                  72 바이트\n",
      "               3개 디렉터리  96,240,631,808 바이트 남음\n"
     ]
    }
   ],
   "source": [
    "!dir"
   ]
  },
  {
   "cell_type": "code",
   "execution_count": 6,
   "id": "2b1b0eb1",
   "metadata": {},
   "outputs": [
    {
     "name": "stdout",
     "output_type": "stream",
     "text": [
      "asdaasdasd\n"
     ]
    }
   ],
   "source": [
    "print(\"asdaasdasd\")"
   ]
  },
  {
   "cell_type": "code",
   "execution_count": 12,
   "id": "9d02f266",
   "metadata": {},
   "outputs": [
    {
     "name": "stdout",
     "output_type": "stream",
     "text": [
      "x 평균 값:  5.0\n",
      "y 평균 값:  90.5\n",
      "분모:  20.0\n",
      "분자:  46.0\n",
      "기울기 a:  2.3\n",
      "y 절편:  79.0\n",
      "선형회귀: y = 2.3x + 79\n"
     ]
    },
    {
     "data": {
      "image/png": "[encoded data removed]",
      "text/plain": [
       "<Figure size 432x288 with 1 Axes>"
      ]
     },
     "metadata": {
      "needs_background": "light"
     },
     "output_type": "display_data"
    }
   ],
   "source": [
    "import numpy as np\n",
    "import matplotlib.pyplot as plt\n",
    "\n",
    "x = [2,4,6,8]\n",
    "y = [81, 93, 91, 97]\n",
    "\n",
    "mx = np.mean(x)\n",
    "my = np.mean(y)\n",
    "\n",
    "divisor = sum([(i - mx)**2 for i in x])\n",
    "\n",
    "def top(x, mx, y, my):\n",
    "    d = 0\n",
    "    for i in range(len(x)):\n",
    "        d += (x[i] - mx) * (y[i] - my)\n",
    "    return d\n",
    "\n",
    "dividend = top(x,mx,y,my)\n",
    "\n",
    "a = dividend / divisor\n",
    "\n",
    "b = my - (mx*a)\n",
    "\n",
    "print(\"x 평균 값: \", mx)\n",
    "print(\"y 평균 값: \", my)\n",
    "\n",
    "print(\"분모: \", divisor)\n",
    "print(\"분자: \", dividend)\n",
    "\n",
    "print(\"기울기 a: \", a)\n",
    "print(\"y 절편: \", b)\n",
    "\n",
    "print(\"선형회귀: y = 2.3x + 79\")\n",
    "\n",
    "\n",
    "plt.plot(x,y, 'b.')\n",
    "fit_line = np.polyfit(x, y, 1)#1: 1차원\n",
    "X = np.array([min(x), max(x)]) # 시작과 끝 X 좌표\n",
    "Y = X * fit_line[0] + fit_line[1] # 시작과 끝 Y 좌표\n",
    "#y = 2.3x + 79\n",
    "plt.plot(X, Y, 'r')\n",
    "\n",
    "plt.show()"
   ]
  },
  {
   "cell_type": "code",
   "execution_count": 17,
   "id": "52970550",
   "metadata": {},
   "outputs": [
    {
     "data": {
      "image/png": "[encoded data removed]",
      "text/plain": [
       "<Figure size 576x360 with 1 Axes>"
      ]
     },
     "metadata": {
      "needs_background": "light"
     },
     "output_type": "display_data"
    }
   ],
   "source": [
    "import numpy as np\n",
    "import matplotlib.pyplot as plt\n",
    "import pandas as pd\n",
    "\n",
    "data = [[2, 81], [4, 93], [6, 91], [8, 97]]\n",
    "x = [i[0] for i in data]\n",
    "y = [i[1] for i in data]\n",
    "\n",
    "plt.figure(figsize = (8,5))\n",
    "plt.scatter(x,y)\n",
    "plt.show()"
   ]
  },
  {
   "cell_type": "code",
   "execution_count": 18,
   "id": "802aa1dc",
   "metadata": {},
   "outputs": [
    {
     "name": "stdout",
     "output_type": "stream",
     "text": [
      "epoch = 0, 기울기 = 27.8400, 절편 = 5.4300\n",
      "epoch = 100, 기울기 = 7.0739, 절편 = 50.5117\n",
      "epoch = 200, 기울기 = 4.0960, 절편 = 68.2822\n",
      "epoch = 300, 기울기 = 2.9757, 절편 = 74.9678\n",
      "epoch = 400, 기울기 = 2.5542, 절편 = 77.4830\n",
      "epoch = 500, 기울기 = 2.3956, 절편 = 78.4293\n",
      "epoch = 600, 기울기 = 2.3360, 절편 = 78.7853\n",
      "epoch = 700, 기울기 = 2.3135, 절편 = 78.9192\n",
      "epoch = 800, 기울기 = 2.3051, 절편 = 78.9696\n",
      "epoch = 900, 기울기 = 2.3019, 절편 = 78.9886\n",
      "epoch = 1000, 기울기 = 2.3007, 절편 = 78.9957\n",
      "epoch = 1100, 기울기 = 2.3003, 절편 = 78.9984\n",
      "epoch = 1200, 기울기 = 2.3001, 절편 = 78.9994\n",
      "epoch = 1300, 기울기 = 2.3000, 절편 = 78.9998\n",
      "epoch = 1400, 기울기 = 2.3000, 절편 = 78.9999\n",
      "epoch = 1500, 기울기 = 2.3000, 절편 = 79.0000\n",
      "epoch = 1600, 기울기 = 2.3000, 절편 = 79.0000\n",
      "epoch = 1700, 기울기 = 2.3000, 절편 = 79.0000\n",
      "epoch = 1800, 기울기 = 2.3000, 절편 = 79.0000\n",
      "epoch = 1900, 기울기 = 2.3000, 절편 = 79.0000\n",
      "epoch = 2000, 기울기 = 2.3000, 절편 = 79.0000\n"
     ]
    },
    {
     "data": {
      "image/png": "[encoded data removed]",
      "text/plain": [
       "<Figure size 432x288 with 1 Axes>"
      ]
     },
     "metadata": {
      "needs_background": "light"
     },
     "output_type": "display_data"
    }
   ],
   "source": [
    "x_data = np.array(x)\n",
    "y_data = np.array(y)\n",
    "\n",
    "a = 0\n",
    "b = 0\n",
    "\n",
    "lr = 0.03 #학습률\n",
    "epochs = 2001# 2000번(2001 -1) 반복\n",
    "\n",
    "for i in range (epochs):\n",
    "    y_pred = a*x_data + b\n",
    "    error = y_data - y_pred\n",
    "    \n",
    "    a_diff = - (2/len(x_data)) * sum(x_data * error)\n",
    "    b_diff = - (2/len(x_data)) * sum(error)\n",
    "    \n",
    "    a = a - lr * a_diff\n",
    "    b = b - lr * b_diff\n",
    "    \n",
    "    if i % 100 == 0:\n",
    "        print(\"epoch = %.f, 기울기 = %.04f, 절편 = %.04f\" %(i, a, b))\n",
    "        \n",
    "y_pred = a * x_data + b\n",
    "plt.scatter(x,y)\n",
    "plt.plot([min(x_data), max(x_data)],[min(y_pred), max(y_pred)])\n",
    "plt.show()"
   ]
  },
  {
   "cell_type": "code",
   "execution_count": 21,
   "id": "3f4bb569",
   "metadata": {},
   "outputs": [
    {
     "data": {
      "text/plain": [
       "(-0.1, 1.1)"
      ]
     },
     "execution_count": 21,
     "metadata": {},
     "output_type": "execute_result"
    },
    {
     "data": {
      "image/png": "[encoded data removed]",
      "text/plain": [
       "<Figure size 432x288 with 1 Axes>"
      ]
     },
     "metadata": {
      "needs_background": "light"
     },
     "output_type": "display_data"
    }
   ],
   "source": [
    "import numpy as np\n",
    "import matplotlib.pyplot as plt\n",
    "import pandas as pd\n",
    "\n",
    "data = [[2,0], [4,0], [6,0], [8,1], [10,1], [12,1], [14,1]]\n",
    "\n",
    "x_data = [i[0] for i in data]\n",
    "y_data = [i[1] for i in data]\n",
    "\n",
    "plt.scatter(x_data, y_data)\n",
    "plt.xlim(0,15)\n",
    "plt.ylim(-.1, 1.1)"
   ]
  },
  {
   "cell_type": "code",
   "execution_count": 25,
   "id": "d107c91e",
   "metadata": {},
   "outputs": [
    {
     "name": "stdout",
     "output_type": "stream",
     "text": [
      "epoch = 0, 기울기 = -0.0500, 절편 = -0.0250\n",
      "epoch = 0, 기울기 = -0.1388, 절편 = -0.0472\n",
      "epoch = 0, 기울기 = -0.2268, 절편 = -0.0619\n",
      "epoch = 0, 기울기 = 0.1201, 절편 = -0.0185\n",
      "epoch = 0, 기울기 = 0.2374, 절편 = -0.0068\n",
      "epoch = 0, 기울기 = 0.2705, 절편 = -0.0040\n",
      "epoch = 0, 기울기 = 0.2860, 절편 = -0.0029\n",
      "epoch = 1000, 기울기 = 1.4978, 절편 = -9.9401\n",
      "epoch = 1000, 기울기 = 1.4940, 절편 = -9.9411\n",
      "epoch = 1000, 기울기 = 1.4120, 절편 = -9.9547\n",
      "epoch = 1000, 기울기 = 1.4949, 절편 = -9.9444\n",
      "epoch = 1000, 기울기 = 1.4982, 절편 = -9.9440\n",
      "epoch = 1000, 기울기 = 1.4984, 절편 = -9.9440\n",
      "epoch = 1000, 기울기 = 1.4985, 절편 = -9.9440\n",
      "epoch = 2000, 기울기 = 1.9065, 절편 = -12.9489\n",
      "epoch = 2000, 기울기 = 1.9055, 절편 = -12.9491\n",
      "epoch = 2000, 기울기 = 1.8515, 절편 = -12.9581\n",
      "epoch = 2000, 기울기 = 1.9057, 절편 = -12.9514\n",
      "epoch = 2000, 기울기 = 1.9068, 절편 = -12.9513\n",
      "epoch = 2000, 기울기 = 1.9068, 절편 = -12.9513\n",
      "epoch = 2000, 기울기 = 1.9068, 절편 = -12.9513\n"
     ]
    }
   ],
   "source": [
    "a = 0\n",
    "b = 0\n",
    "\n",
    "lr = 0.05\n",
    "\n",
    "def sigmoid(x):\n",
    "    return 1 / (1 + np.e ** (-x))\n",
    "\n",
    "for i in range(2001):\n",
    "    for x_data, y_data in data:\n",
    "        a_diff = x_data*(sigmoid(a*x_data + b) - y_data)\n",
    "        b_diff = sigmoid(a*x_data + b) - y_data\n",
    "        a = a - lr * a_diff\n",
    "        b = b - lr * b_diff\n",
    "        if i % 1000 == 0:\n",
    "            print(\"epoch = %.f, 기울기 = %.04f, 절편 = %.04f\" %(i, a, b))\n",
    "            \n",
    "    "
   ]
  },
  {
   "cell_type": "code",
   "execution_count": 28,
   "id": "ae583ac3",
   "metadata": {},
   "outputs": [
    {
     "data": {
      "image/png": "[encoded data removed]",
      "text/plain": [
       "<Figure size 432x288 with 1 Axes>"
      ]
     },
     "metadata": {
      "needs_background": "light"
     },
     "output_type": "display_data"
    }
   ],
   "source": [
    "plt.scatter(x,y)\n",
    "plt.xlim(0,15)\n",
    "plt.ylim(-.1, 1.1)\n",
    "x_range = (np.arange(0, 15, 0.1))\n",
    "plt.plot(np.arange(0,15,0.1), np.array([sigmoid(a*x+b) for x in x_range]))\n",
    "plt.show()"
   ]
  },
  {
   "cell_type": "code",
   "execution_count": null,
   "id": "5ac285ef",
   "metadata": {},
   "outputs": [],
   "source": []
  }
 ],
 "metadata": {
  "kernelspec": {
   "display_name": "Python 3 (ipykernel)",
   "language": "python",
   "name": "python3"
  },
  "language_info": {
   "codemirror_mode": {
    "name": "ipython",
    "version": 3
   },
   "file_extension": ".py",
   "mimetype": "text/x-python",
   "name": "python",
   "nbconvert_exporter": "python",
   "pygments_lexer": "ipython3",
   "version": "3.8.0"
  }
 },
 "nbformat": 4,
 "nbformat_minor": 5
}
