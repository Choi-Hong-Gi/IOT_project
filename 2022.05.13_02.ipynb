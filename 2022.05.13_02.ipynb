{
 "cells": [
  {
   "cell_type": "code",
   "execution_count": 12,
   "id": "593e4fb4",
   "metadata": {},
   "outputs": [],
   "source": [
    "from keras.datasets import mnist\n",
    "#from keras.utils import np_utils\n",
    "from keras.models import Sequential\n",
    "from keras.layers.core import Dense\n",
    "from keras.callbacks import ModelCheckpoint, EarlyStopping\n",
    "\n",
    "import matplotlib.pyplot as plt\n",
    "import tensorflow as tf\n",
    "import pandas as pd\n",
    "import numpy as np\n",
    "import os"
   ]
  },
  {
   "cell_type": "code",
   "execution_count": 4,
   "id": "8280ea93",
   "metadata": {},
   "outputs": [
    {
     "name": "stdout",
     "output_type": "stream",
     "text": [
      "학습셋 이미지 수: 60000 개\n",
      "테스트셋 이미지 수: 10000 개\n"
     ]
    }
   ],
   "source": [
    "seed = 0\n",
    "np.random.seed(seed)\n",
    "tf.random.set_seed(3)\n",
    "\n",
    "(X_train, Y_train), (X_test, Y_test) = mnist.load_data()\n",
    "\n",
    "print(\"학습셋 이미지 수: %d 개\" %(X_train.shape[0]))\n",
    "print(\"테스트셋 이미지 수: %d 개\" %(X_test.shape[0]))\n",
    "\n",
    "X_train = X_train.reshape(X_train.shape[0], 784).astype('float32') / 255\n",
    "X_test = X_test.reshape(X_test.shape[0], 784).astype('float32')  / 255\n"
   ]
  },
  {
   "cell_type": "code",
   "execution_count": 5,
   "id": "95fe915f",
   "metadata": {},
   "outputs": [],
   "source": [
    "Y_train = tf.keras.utils.to_categorical(Y_train)\n",
    "Y_test = tf.keras.utils.to_categorical(Y_test)"
   ]
  },
  {
   "cell_type": "code",
   "execution_count": 6,
   "id": "991b3228",
   "metadata": {},
   "outputs": [],
   "source": [
    "model = Sequential()\n",
    "model.add(Dense(512, input_dim = 784, activation = 'relu'))\n",
    "model.add(Dense(10, activation = 'softmax'))\n",
    "\n",
    "model.compile(loss = 'categorical_crossentropy', optimizer = 'adam', metrics = ['accuracy'])\n"
   ]
  },
  {
   "cell_type": "code",
   "execution_count": 17,
   "id": "fb30337a",
   "metadata": {},
   "outputs": [
    {
     "name": "stdout",
     "output_type": "stream",
     "text": [
      "\n",
      "Epoch 00001: val_loss improved from inf to 0.08733, saving model to ./model\\01-0.0873.hdf5\n",
      "\n",
      "Epoch 00002: val_loss did not improve from 0.08733\n",
      "\n",
      "Epoch 00003: val_loss did not improve from 0.08733\n",
      "\n",
      "Epoch 00004: val_loss improved from 0.08733 to 0.08600, saving model to ./model\\04-0.0860.hdf5\n",
      "\n",
      "Epoch 00005: val_loss did not improve from 0.08600\n",
      "\n",
      "Epoch 00006: val_loss improved from 0.08600 to 0.08365, saving model to ./model\\06-0.0837.hdf5\n",
      "\n",
      "Epoch 00007: val_loss did not improve from 0.08365\n",
      "\n",
      "Epoch 00008: val_loss did not improve from 0.08365\n",
      "\n",
      "Epoch 00009: val_loss did not improve from 0.08365\n",
      "\n",
      "Epoch 00010: val_loss did not improve from 0.08365\n",
      "\n",
      "Epoch 00011: val_loss did not improve from 0.08365\n",
      "\n",
      "Epoch 00012: val_loss did not improve from 0.08365\n",
      "\n",
      "Epoch 00013: val_loss did not improve from 0.08365\n",
      "\n",
      "Epoch 00014: val_loss did not improve from 0.08365\n",
      "\n",
      "Epoch 00015: val_loss did not improve from 0.08365\n",
      "\n",
      "Epoch 00016: val_loss did not improve from 0.08365\n",
      "313/313 [==============================] - 1s 2ms/step - loss: 0.0878 - accuracy: 0.9831\n",
      "\n",
      " Test Accuracy: 0.9831\n"
     ]
    }
   ],
   "source": [
    "MODEL_DIR = './model/'\n",
    "if not os.path.exists(MODEL_DIR):\n",
    "    os.mkdir(MODEL_DIR)\n",
    "\n",
    "modelpath = \"./model/{epoch:02d}-{val_loss:.4f}.hdf5\"\n",
    "checkpointer = ModelCheckpoint(filepath = modelpath, monitor = 'val_loss',\n",
    "                               verbose = 1, save_best_only = True)\n",
    "early_stopping_callback = EarlyStopping(monitor = 'val_loss', patience = 10)\n",
    "\n",
    "history = model.fit(X_train, Y_train, validation_data = (X_test, Y_test),\n",
    "                    epochs = 30, batch_size = 200, verbose = 0,\n",
    "                    callbacks = [early_stopping_callback, checkpointer])\n",
    "\n",
    "print(\"\\n Test Accuracy: %.4f\" %(model.evaluate(X_test, Y_test)[1]))\n",
    "\n",
    "y_vloss = history.history['val_loss']\n",
    "y_loss = history.history['loss']\n",
    "\n"
   ]
  },
  {
   "cell_type": "code",
   "execution_count": 19,
   "id": "72e6ea50",
   "metadata": {},
   "outputs": [
    {
     "data": {
      "image/png": "[encoded data removed]",
      "text/plain": [
       "<Figure size 432x288 with 1 Axes>"
      ]
     },
     "metadata": {
      "needs_background": "light"
     },
     "output_type": "display_data"
    }
   ],
   "source": [
    "x_len = np.arange(len(y_loss))\n",
    "plt.plot(x_len, y_vloss, marker = '.', c = 'red', label = 'Testset_loss')\n",
    "plt.plot(x_len, y_loss, marker = '.', c = 'blue', label = 'Trainset_loss')\n",
    "plt.legend(loc = 'upper right')\n",
    "plt.grid()\n",
    "plt.xlabel('epoch')\n",
    "plt.ylabel('loss')\n",
    "plt.show()"
   ]
  }
 ],
 "metadata": {
  "kernelspec": {
   "display_name": "Python 3 (ipykernel)",
   "language": "python",
   "name": "python3"
  },
  "language_info": {
   "codemirror_mode": {
    "name": "ipython",
    "version": 3
   },
   "file_extension": ".py",
   "mimetype": "text/x-python",
   "name": "python",
   "nbconvert_exporter": "python",
   "pygments_lexer": "ipython3",
   "version": "3.8.0"
  }
 },
 "nbformat": 4,
 "nbformat_minor": 5
}
