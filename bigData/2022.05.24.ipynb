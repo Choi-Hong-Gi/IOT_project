{
 "cells": [
  {
   "cell_type": "code",
   "execution_count": 83,
   "id": "3c5a7ad3",
   "metadata": {},
   "outputs": [
    {
     "name": "stdout",
     "output_type": "stream",
     "text": [
      "영유아 기준: 0~6세\n",
      "\n",
      "영유아 인구 절대치가 가장 높은 지역: 경기 \n",
      "' 경기 ' 지역 영유아 수:  702824 명\n",
      "\n",
      "영유아 비율이 가장 높은 지역: 세종 \n",
      "' 세종 ' 지역 영유아 비율: 약 8.3 %\n"
     ]
    }
   ],
   "source": [
    "import csv\n",
    "import matplotlib.pyplot as plt\n",
    "import numpy as np\n",
    "\n",
    "file = open('0_6.csv')\n",
    "data = csv.reader(file)\n",
    "next(data)\n",
    "next(data)\n",
    "\n",
    "location = ['서울','부산','대구','인천','광주','대전','울산','세종','경기',\n",
    "            '강원','충북','충남','전북','전남','경북','경남','제주']\n",
    "\n",
    "#현재 영유아 가장 많은 지역\n",
    "\n",
    "infant = []\n",
    "infantRate = []\n",
    "\n",
    "for row in data:\n",
    "    infant.append( int(row[2].replace(',','')) )\n",
    "    infantRate.append( int(row[2].replace(',','')) / int(row[1].replace(',','')) )\n",
    "\n",
    "print(\"영유아 기준: 0~6세\\n\")\n",
    "print(\"영유아 인구 절대치가 가장 높은 지역:\",location[infant.index(max(infant))],\"\\n'\"\n",
    "      , location[infant.index(max(infant))], \"' 지역 영유아 수: \",max(infant), \"명\\n\")\n",
    "\n",
    "\n",
    "print(\"영유아 비율이 가장 높은 지역:\",location[infantRate.index(max(infantRate))],\"\\n'\"\n",
    "      , location[infantRate.index(max(infantRate))], \"' 지역 영유아 비율: 약\",round(max(infantRate), 3)*100, \"%\")"
   ]
  },
  {
   "cell_type": "code",
   "execution_count": 84,
   "id": "f48601b6",
   "metadata": {},
   "outputs": [
    {
     "name": "stdout",
     "output_type": "stream",
     "text": [
      "서울 전체 9 ~ 19세 청소년 비율: 약 8.7 %\n",
      "\n",
      "대치1동 9 ~ 19세 청소년 비율: 약 23.9 %\n",
      "\n",
      "목1동 9 ~ 19세 청소년 비율: 약 18.0 %\n",
      "\n",
      "중계본동 9 ~ 19세 청소년 비율: 약 19.7 %\n",
      "\n"
     ]
    }
   ],
   "source": [
    "import csv\n",
    "\n",
    "file = open('9_19.csv')\n",
    "data = csv.reader(file)\n",
    "next(data)\n",
    "\n",
    "#학군 좋은 지역 청소년 비율\n",
    "# 강남구 대치1동, 양천구 목1동, 노원구 중계본동\n",
    "\n",
    "SeoulTeen = []\n",
    "teenRate_Daechi = []\n",
    "teenRate_Mok = []\n",
    "teenRate_Junggye = []\n",
    "\n",
    "for row in data:\n",
    "    if '강남구 대치1동' in row[0]:\n",
    "        teenRate_Daechi.append( int(row[2].replace(',','')) / int(row[1].replace(',','')) )\n",
    "    if '양천구 목1동' in row[0]:\n",
    "        teenRate_Mok.append( int(row[2].replace(',','')) / int(row[1].replace(',','')) )\n",
    "    if '노원구 중계본동' in row[0]:\n",
    "        teenRate_Junggye.append( int(row[2].replace(',','')) / int(row[1].replace(',','')) )\n",
    "    if '서울특별시' in row[0]:\n",
    "        SeoulTeen.append( int(row[2].replace(',','')) / int(row[1].replace(',','')) )\n",
    "\n",
    "print(\"서울 전체 9 ~ 19세 청소년 비율: 약\", round(SeoulTeen[0], 3)*100, \"%\\n\")       \n",
    "\n",
    "print(\"대치1동 9 ~ 19세 청소년 비율: 약\", round(teenRate_Daechi[0], 3)*100, \"%\\n\")\n",
    "\n",
    "print(\"목1동 9 ~ 19세 청소년 비율: 약\", round(teenRate_Mok[0], 2)*100, \"%\\n\")\n",
    "\n",
    "print(\"중계본동 9 ~ 19세 청소년 비율: 약\", round(teenRate_Junggye[0], 3)*100, \"%\\n\")"
   ]
  },
  {
   "cell_type": "code",
   "execution_count": 162,
   "id": "e2f91519",
   "metadata": {},
   "outputs": [
    {
     "name": "stdout",
     "output_type": "stream",
     "text": [
      "2011 - 2021 광역시 청년 인구 비율 변화\n",
      "부산 청년 인구 변화: 100% ->  84.4 %\n",
      "대구 청년 인구 변화: 100% ->  88.92 %\n",
      "인천 청년 인구 변화: 100% ->  88.16 %\n",
      "광주 청년 인구 변화: 100% ->  91.32 %\n",
      "대전 청년 인구 변화: 100% ->  92.95 %\n",
      "울산 청년 인구 변화: 100% ->  83.64 %\n"
     ]
    },
    {
     "data": {
      "image/png": "[encoded data removed]",
      "text/plain": [
       "<Figure size 432x288 with 1 Axes>"
      ]
     },
     "metadata": {
      "needs_background": "light"
     },
     "output_type": "display_data"
    }
   ],
   "source": [
    "#광역시 10년 단위 청년 비율 변화\n",
    "import csv\n",
    "import matplotlib.pyplot as plt\n",
    "\n",
    "file1 = open('2021_19_34.csv')\n",
    "data1 = csv.reader(file1)\n",
    "next(data1)\n",
    "next(data1)\n",
    "\n",
    "file2 = open('2011_19_34.csv')\n",
    "data2 = csv.reader(file2)\n",
    "next(data2)\n",
    "next(data2)\n",
    "\n",
    "loc = ['부산','대구','인천','광주','대전','울산']\n",
    "x = [1, 2, 3, 4, 5, 6]\n",
    "youth_2021 = []\n",
    "youth_2011 = []\n",
    "\n",
    "for row1 in data1:\n",
    "    if '광역시' in row1[0]:\n",
    "        youth_2021.append( int(row1[2].replace(',','')) / int(row1[1].replace(',','')) )\n",
    "\n",
    "#print(\"2021, 광역시 19 ~ 34세 청년 비율\",youth_2021)\n",
    "        \n",
    "for row2 in data2:\n",
    "    if '광역시' in row2[0]:\n",
    "        youth_2011.append( int(row2[2].replace(',','')) / int(row2[1].replace(',','')) )\n",
    "        \n",
    "#print(\"2011, 광역시 19 ~ 34세 청년 비율\",youth_2011)\n",
    "print(\"2011 - 2021 광역시 청년 인구 비율 변화\", )\n",
    "\n",
    "for i in range(len(youth_2021)):\n",
    "    print(loc[i], \"청년 인구 변화: 100% -> \", round(youth_2021[i]/youth_2011[i]*100,2), \"%\")\n",
    "\n",
    "plt.rc('font', family = 'Malgun Gothic')\n",
    "plt.title('2011 - 2021 광역시 청년 인구 비율')\n",
    "plt.plot(loc, youth_2021, label = '2021',  alpha = 1)\n",
    "plt.plot(loc, youth_2011, label = '2011', alpha = 1)\n",
    "plt.legend()\n",
    "plt.show()"
   ]
  },
  {
   "cell_type": "code",
   "execution_count": 4,
   "id": "a015da05",
   "metadata": {},
   "outputs": [
    {
     "name": "stdout",
     "output_type": "stream",
     "text": [
      "서울 내 5년간 인구가 증가한 구\n",
      "-  종로 -5.27 % 감소\n",
      "-  중 -2.2 % 감소\n",
      "-  용산 -3.17 % 감소\n",
      "-  성동 -4.43 % 감소\n",
      "-  광진 -4.82 % 감소\n",
      "-  동대문 -4.98 % 감소\n",
      "-  중랑 -5.76 % 감소\n",
      "-  성북 -4.4 % 감소\n",
      "-  강북 -8.56 % 감소\n",
      "-  도봉 -8.86 % 감소\n",
      "-  노원 -9.98 % 감소\n",
      "-  은평 -3.7 % 감소\n",
      "-  서대문 -2.98 % 감소\n",
      "-  마포 -2.89 % 감소\n",
      "-  양천 -6.37 % 감소\n",
      "-  강서 -3.56 % 감소\n",
      "-  구로 -4.98 % 감소\n",
      "-  금천 -1.94 % 감소\n",
      "-  영등포 1.68 % 증가\n",
      "-  동작 -3.87 % 감소\n",
      "-  관악 -4.17 % 감소\n",
      "-  서초 -7.81 % 감소\n",
      "-  강남 -6.01 % 감소\n",
      "-  송파 0.08 % 증가\n",
      "-  강동 4.16 % 증가\n"
     ]
    }
   ],
   "source": [
    "#서울 5년(2016~2021) 인구 증가 구\n",
    "import csv\n",
    "import matplotlib.pyplot as plt\n",
    "\n",
    "file1 = open('Seoul_2021.csv')\n",
    "data1 = csv.reader(file1)\n",
    "next(data1)\n",
    "next(data1)\n",
    "\n",
    "file2 = open('Seoul_2016.csv')\n",
    "data2 = csv.reader(file2)\n",
    "next(data2)\n",
    "next(data2)\n",
    "\n",
    "District = ['종로','중','용산','성동','광진','동대문','중랑','성북',\n",
    "            '강북','도봉','노원','은평','서대문','마포','양천','강서',\n",
    "            '구로','금천','영등포','동작','관악','서초','강남','송파','강동']\n",
    "Seoul_2021 = []\n",
    "Seoul_2016 = []\n",
    "\n",
    "for row1 in data1:\n",
    "    Seoul_2021.append(int(row1[1].replace(',','')))\n",
    "    \n",
    "for row2 in data2:\n",
    "    Seoul_2016.append(int(row2[1].replace(',','')))\n",
    "    \n",
    "#print(Seoul_2021)\n",
    "#print(Seoul_2016)\n",
    "\n",
    "Seoul_diff = []\n",
    "\n",
    "for i in range(len(Seoul_2021)):\n",
    "    Seoul_diff.append(Seoul_2021[i] / Seoul_2016[i])\n",
    "    \n",
    "#print(Seoul_diff)\n",
    "print(\"서울 내 5년간 인구가 증가한 구\")\n",
    "for i in range(len(Seoul_diff)):\n",
    "    if Seoul_diff[i] > 1:\n",
    "        print(\"- \",District[i], round(Seoul_diff[i]*100-100, 2), \"% 증가\")\n",
    "    elif Seoul_diff[i] < 1:\n",
    "        print(\"- \",District[i], round(Seoul_diff[i]*100-100, 2), \"% 감소\")\n",
    "    else:\n",
    "        print(\"- \",District[i], \"는 그대로!\")"
   ]
  },
  {
   "cell_type": "code",
   "execution_count": 2,
   "id": "6d02d60f",
   "metadata": {},
   "outputs": [
    {
     "name": "stdout",
     "output_type": "stream",
     "text": [
      "우리 동네 >> 청원구 우암동\n",
      "청원구 우암동 와 인구 구조가 유사한 지역:  서울특별시 동대문구 제기동(1123054500)\n"
     ]
    },
    {
     "data": {
      "image/png": "[encoded data removed]",
      "text/plain": [
       "<Figure size 432x288 with 1 Axes>"
      ]
     },
     "metadata": {
      "needs_background": "light"
     },
     "output_type": "display_data"
    }
   ],
   "source": [
    "#인구 구조가 비슷한 동네 찾기\n",
    "\n",
    "import csv\n",
    "import matplotlib.pyplot as plt\n",
    "\n",
    "file = open('local_pop.csv')\n",
    "data = csv.reader(file)\n",
    "next(data)\n",
    "data = list(data)\n",
    "\n",
    "loc = input(\"우리 동네 >> \")\n",
    "loc2 = ''\n",
    "my_loc = []\n",
    "\n",
    "for row in data:\n",
    "    if loc in row[0]:\n",
    "        loc2 = row[0]\n",
    "        for i in range(3, len(row)):\n",
    "            my_loc.append(int(row[i]))\n",
    "    else:\n",
    "        pass\n",
    "\n",
    "my_loc_rate = []\n",
    "\n",
    "for i in range(len(my_loc)):\n",
    "    my_loc_rate.append(my_loc[i]/sum(my_loc))\n",
    "    \n",
    "#원하는 지역 인구구조(비율)\n",
    "#--------------------------------------------------------------------------------\n",
    "#유사 지역 찾기\n",
    "diff = []\n",
    "diff_sum = []\n",
    "mn = 1\n",
    "sim_loc = ''\n",
    "for row in data:\n",
    "    if int(row[2].replace(',','')) != 0 and loc not in row[0]:\n",
    "        for i in range(3, len(row)):\n",
    "            other = int(row[i].replace(',',''))/int(row[2].replace(',',''))       \n",
    "            diff.append((my_loc_rate[i-3] - other)**2)\n",
    "        #print(sum(diff))\n",
    "        if sum(diff) < mn:\n",
    "            mn = sum(diff)\n",
    "            sim_loc = row[0]\n",
    "        diff.clear()\n",
    "        #print(\"@@@@@@@@@@@@@@@@@@@@@@@@@@@@@@@@@@@@@@@@@@@@@@@@@@@@@@@@@@\")\n",
    "print(loc, \"와 인구 구조가 유사한 지역: \", sim_loc)\n",
    "\n",
    "sim_location = []\n",
    "sim_location_rate = []\n",
    "\n",
    "for row in data:\n",
    "    if sim_loc in row[0]:\n",
    "        for i in range(3, len(row)):\n",
    "            sim_location.append(int(row[i]))\n",
    "\n",
    "for i in range(len(sim_location)):\n",
    "    sim_location_rate.append(sim_location[i]/sum(sim_location))\n",
    "\n",
    "\n",
    "plt.rc('font', family = 'Malgun Gothic')\n",
    "plt.title(loc2 + \" 지역 인구 구조와 유사한 지역\")\n",
    "plt.plot( my_loc_rate , label = loc2)\n",
    "plt.plot( sim_location_rate , label = sim_loc)\n",
    "plt.legend()\n",
    "plt.show()"
   ]
  }
 ],
 "metadata": {
  "kernelspec": {
   "display_name": "Python 3 (ipykernel)",
   "language": "python",
   "name": "python3"
  },
  "language_info": {
   "codemirror_mode": {
    "name": "ipython",
    "version": 3
   },
   "file_extension": ".py",
   "mimetype": "text/x-python",
   "name": "python",
   "nbconvert_exporter": "python",
   "pygments_lexer": "ipython3",
   "version": "3.9.7"
  }
 },
 "nbformat": 4,
 "nbformat_minor": 5
}
