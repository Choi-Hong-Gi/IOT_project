{
 "cells": [
  {
   "cell_type": "code",
   "execution_count": 44,
   "id": "a2f26f19",
   "metadata": {
    "scrolled": true
   },
   "outputs": [
    {
     "name": "stdout",
     "output_type": "stream",
     "text": [
      "1 월 인명 사고를 가장 많이 발생시킨 연령: 65세이상\n",
      "1 월 65세이상 연령대 가해 사고 사망자 수: 72 \n",
      "\n",
      "2 월 인명 사고를 가장 많이 발생시킨 연령: 51-60세\n",
      "2 월 51-60세 연령대 가해 사고 사망자 수: 50 \n",
      "\n",
      "3 월 인명 사고를 가장 많이 발생시킨 연령: 51-60세\n",
      "3 월 51-60세 연령대 가해 사고 사망자 수: 61 \n",
      "\n",
      "4 월 인명 사고를 가장 많이 발생시킨 연령: 65세이상\n",
      "4 월 65세이상 연령대 가해 사고 사망자 수: 51 \n",
      "\n",
      "5 월 인명 사고를 가장 많이 발생시킨 연령: 65세이상\n",
      "5 월 65세이상 연령대 가해 사고 사망자 수: 67 \n",
      "\n",
      "6 월 인명 사고를 가장 많이 발생시킨 연령: 65세이상\n",
      "6 월 65세이상 연령대 가해 사고 사망자 수: 62 \n",
      "\n",
      "7 월 인명 사고를 가장 많이 발생시킨 연령: 65세이상\n",
      "7 월 65세이상 연령대 가해 사고 사망자 수: 56 \n",
      "\n",
      "8 월 인명 사고를 가장 많이 발생시킨 연령: 65세이상\n",
      "8 월 65세이상 연령대 가해 사고 사망자 수: 74 \n",
      "\n",
      "9 월 인명 사고를 가장 많이 발생시킨 연령: 51-60세\n",
      "9 월 51-60세 연령대 가해 사고 사망자 수: 78 \n",
      "\n",
      "10 월 인명 사고를 가장 많이 발생시킨 연령: 65세이상\n",
      "10 월 65세이상 연령대 가해 사고 사망자 수: 84 \n",
      "\n",
      "11 월 인명 사고를 가장 많이 발생시킨 연령: 51-60세\n",
      "11 월 51-60세 연령대 가해 사고 사망자 수: 66 \n",
      "\n",
      "12 월 인명 사고를 가장 많이 발생시킨 연령: 51-60세\n",
      "12 월 51-60세 연령대 가해 사고 사망자 수: 54 \n",
      "\n"
     ]
    }
   ],
   "source": [
    "import csv\n",
    "import matplotlib.pyplot as plt\n",
    "\n",
    "f = open('traffic11.csv')\n",
    "data = csv.reader(f)\n",
    "hh = next(data)\n",
    "\n",
    "traffic = [0,0,0,0,0,0,0,0,0,0,0,0]\n",
    "mx_age = ['','','','','','','','','','','','']\n",
    "\n",
    "next(data)\n",
    "next(data)\n",
    "result=[]\n",
    "\n",
    "\n",
    "for row in data:\n",
    "    row[1:] = map(int,row[1:])\n",
    "    for t in range(12):\n",
    "        if t+1 == row[1]:\n",
    "            a = row[3]\n",
    "            if a > traffic[t]:\n",
    "                traffic[t] = a\n",
    "                mx_age[t] = row[0]\n",
    "\n",
    "for i in range(12):\n",
    "    print(i+1,\"월 인명 사고를 가장 많이 발생시킨 연령:\",mx_age[i])\n",
    "    print(i+1,\"월\", mx_age[i], \"연령대 가해 사고 사망자 수:\",traffic[i], \"\\n\")"
   ]
  }
 ],
 "metadata": {
  "kernelspec": {
   "display_name": "Python 3 (ipykernel)",
   "language": "python",
   "name": "python3"
  },
  "language_info": {
   "codemirror_mode": {
    "name": "ipython",
    "version": 3
   },
   "file_extension": ".py",
   "mimetype": "text/x-python",
   "name": "python",
   "nbconvert_exporter": "python",
   "pygments_lexer": "ipython3",
   "version": "3.9.7"
  }
 },
 "nbformat": 4,
 "nbformat_minor": 5
}
